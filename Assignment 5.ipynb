{
 "cells": [
  {
   "cell_type": "code",
   "execution_count": null,
   "id": "initial_id",
   "metadata": {
    "collapsed": true
   },
   "outputs": [],
   "source": [
    "# Import necessary libraries\n",
    "import pandas as pd\n",
    "\n",
    "\n",
    "df = pd.read_csv('airports.csv')\n",
    "\n",
    "# Display the first few rows of the dataset to understand its structure\n",
    "df.head()\n",
    "\n",
    "\n"
   ]
  },
  {
   "cell_type": "code",
   "outputs": [],
   "source": [
    "#Question 1 \n",
    "# #What is the northernmost airport in the United States?\n",
    "\n",
    "\n",
    "northernmost_airports = df.nlargest(5, 'lat')\n",
    "\n",
    "# Display the result\n",
    "northernmost_airports\n",
    "\n",
    "\n",
    "\n"
   ],
   "metadata": {
    "collapsed": false
   },
   "id": "eeed753bb6fc8c7d",
   "execution_count": null
  },
  {
   "cell_type": "code",
   "outputs": [],
   "source": [
    "# Question 2 \n",
    "# #What is the easternmost airport in the United States?\n",
    "\n",
    "\n",
    "easternmost_airports = df.nlargest(5, 'lon')\n",
    "\n",
    "# Display the result\n",
    "easternmost_airports\n"
   ],
   "metadata": {
    "collapsed": false
   },
   "id": "ff60c966d0ef1750",
   "execution_count": null
  },
  {
   "cell_type": "code",
   "outputs": [],
   "source": [
    "# Question 3\n",
    "# On February 12th, 2013, which New York area airport had the windiest weather?\n",
    "\n",
    "\n",
    "\n",
    "# Load airport and weather datasets\n",
    "airport_df = pd.read_csv('airports.csv')\n",
    "weather_df = pd.read_csv('weather.csv')\n",
    "\n",
    "# Display the first few rows of the datasets to understand their structures\n",
    "airport_df.head()\n",
    "weather_df.head()\n",
    "\n",
    "\n",
    "\n",
    "weather_feb_12_2013 = weather_df[(weather_df['year'] == 2013) & (weather_df['month'] == 2) & (weather_df['day'] == 12)]\n",
    "\n",
    "# Merge airport and weather data on the 'faa' column\n",
    "merged_df = pd.merge(airport_df, weather_feb_12_2013, left_on='faa', right_on='origin')\n",
    "\n",
    "# Find the New York area airport with the highest wind speed\n",
    "windiest_ny_airport = merged_df[merged_df['tzone'].str.contains('America/New_York')].nlargest(1, 'wind_speed')\n",
    "\n",
    "# Display the result\n",
    "windiest_ny_airport[['faa', 'name', 'wind_speed']]\n"
   ],
   "metadata": {
    "collapsed": false
   },
   "id": "ba4d86db7ab3d004",
   "execution_count": null
  },
  {
   "cell_type": "markdown",
   "source": [
    "1. What is the northernmost airport in the United States?\n",
    "    Dillant Hopkins Airport\n",
    "\n",
    "\n",
    "\n",
    "2. What is the easternmost airport in the United States?\n",
    "    Eareckson As\n",
    "\n",
    "\n",
    "3. On February 12th, 2013, which New York area airport had the windiest weather?\n",
    "    Newark Liberty Intl"
   ],
   "metadata": {
    "collapsed": false
   },
   "id": "990c46449d66c0a1"
  }
 ],
 "metadata": {
  "kernelspec": {
   "display_name": "Python 3",
   "language": "python",
   "name": "python3"
  },
  "language_info": {
   "codemirror_mode": {
    "name": "ipython",
    "version": 2
   },
   "file_extension": ".py",
   "mimetype": "text/x-python",
   "name": "python",
   "nbconvert_exporter": "python",
   "pygments_lexer": "ipython2",
   "version": "2.7.6"
  }
 },
 "nbformat": 4,
 "nbformat_minor": 5
}
